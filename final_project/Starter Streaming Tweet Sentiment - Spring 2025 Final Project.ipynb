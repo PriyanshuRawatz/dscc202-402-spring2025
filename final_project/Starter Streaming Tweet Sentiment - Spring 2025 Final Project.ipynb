{
 "cells": [
  {
   "cell_type": "markdown",
   "metadata": {
    "application/vnd.databricks.v1+cell": {
     "cellMetadata": {
      "byteLimit": 2048000,
      "rowLimit": 10000
     },
     "inputWidgets": {},
     "nuid": "fc749083-2211-485c-943f-640e198b2c70",
     "showTitle": false,
     "tableResultSettingsMap": {},
     "title": ""
    }
   },
   "source": [
    "## DSCC202-402 Data Science at Scale Final Project\n",
    "### Tracking Tweet sentiment at scale using a pretrained transformer (classifier)\n",
    "<p>Consider the following illustration of the end to end system that you will be building.  Each student should do their own work.  The project will demonstrate your understanding of Spark Streaming, the medalion data architecture using Delta Lake, Spark Inference at Scale using an MLflow packaged model as well as Exploritory Data Analysis and System Tracking and Monitoring.</p>\n",
    "<br><br>\n",
    "<img src=\"https://data-science-at-scale.s3.amazonaws.com/images/pipeline.drawio.png\">\n",
    "\n",
    "<p>\n",
    "You will be pulling an updated copy of the course GitHub repositiory: <a href=\"https://github.com/lpalum/dscc202-402-spring2025\">The Repo</a>.  \n",
    "\n",
    "Once you have updated your fork of the repository you should see the following template project that is resident in the final_project directory.\n",
    "</p>\n",
    "\n",
    "<img src=\"https://data-science-at-scale.s3.amazonaws.com/images/notebooks.drawio.png\">\n",
    "\n",
    "<p>\n",
    "You can then pull your project into the Databrick Workspace using the <a href=\"https://github.com/apps/databricks\">Databricks App on Github</a> or by cloning the repo to your laptop and then uploading the final_project directory and its contents to your workspace using file imports.  Your choice.\n",
    "\n",
    "<p>\n",
    "Work your way through this notebook which will give you the steps required to submit a complete and compliant project.  The following illustration and associated data dictionary specifies the transformations and data that you are to generate for each step in the medallion pipeline.\n",
    "</p>\n",
    "<br><br>\n",
    "<img src=\"https://data-science-at-scale.s3.amazonaws.com/images/dataframes.drawio.png\">\n",
    "\n",
    "#### Bronze Data - raw ingest\n",
    "- date - string in the source json\n",
    "- user - string in the source json\n",
    "- text - tweet string in the source json\n",
    "- sentiment - the given sentiment of the text as determined by an unknown model that is provided in the source json\n",
    "- source_file - the path of the source json file the this row of data was read from\n",
    "- processing_time - a timestamp of when you read this row from the source json\n",
    "\n",
    "#### Silver Data - Bronze Preprocessing\n",
    "- timestamp - convert date string in the bronze data to a timestamp\n",
    "- mention - every @username mentioned in the text string in the bronze data gets a row in this silver data table.\n",
    "- cleaned_text - the bronze text data with the mentions (@username) removed.\n",
    "- sentiment - the given sentiment that was associated with the text in the bronze table.\n",
    "\n",
    "#### Gold Data - Silver Table Inference\n",
    "- timestamp - the timestamp from the silver data table rows\n",
    "- mention - the mention from the silver data table rows\n",
    "- cleaned_text - the cleaned_text from the silver data table rows\n",
    "- sentiment - the given sentiment from the silver data table rows\n",
    "- predicted_score - score out of 100 from the Hugging Face Sentiment Transformer\n",
    "- predicted_sentiment - string representation of the sentiment\n",
    "- sentiment_id - 0 for negative and 1 for postive associated with the given sentiment\n",
    "- predicted_sentiment_id - 0 for negative and 1 for positive assocaited with the Hugging Face Sentiment Transformer\n",
    "\n",
    "#### Application Data - Gold Table Aggregation\n",
    "- min_timestamp - the oldest timestamp on a given mention (@username)\n",
    "- max_timestamp - the newest timestamp on a given mention (@username)\n",
    "- mention - the user (@username) that this row pertains to.\n",
    "- negative - total negative tweets directed at this mention (@username)\n",
    "- neutral - total neutral tweets directed at this mention (@username)\n",
    "- positive - total positive tweets directed at this mention (@username)\n",
    "\n",
    "When you are designing your approach, one of the main decisions that you will need to make is how you are going to orchestrate the streaming data processing in your pipeline.  There are several valid approaches to triggering your steams and how you will gate the execution of your pipeline.  Think through how you want to proceed and ask questions if you need guidance. The following references may be helpful:\n",
    "- [Spark Structured Streaming Programming Guide](https://spark.apache.org/docs/latest/structured-streaming-programming-guide.html)\n",
    "- [Databricks Autoloader - Cloudfiles](https://docs.databricks.com/en/ingestion/auto-loader/index.html)\n",
    "- [In class examples - Spark Structured Streaming Performance](https://dbc-f85bdc5b-07db.cloud.databricks.com/editor/notebooks/2638424645880316?o=1093580174577663)\n",
    "\n",
    "### Be sure your project runs end to end when *Run all* is executued on this notebook! (7 points)\n",
    "\n",
    "### This project is worth 25% of your final grade.\n",
    "- DSCC-202 Students have 55 possible points on this project (see points above and the instructions below)\n",
    "- DSCC-402 Students have 60 possible points on this project (one extra section to complete)"
   ]
  },
  {
   "cell_type": "code",
   "execution_count": 0,
   "metadata": {
    "application/vnd.databricks.v1+cell": {
     "cellMetadata": {
      "byteLimit": 2048000,
      "rowLimit": 10000
     },
     "inputWidgets": {},
     "nuid": "068f25d0-1387-4342-89cf-ce82a8d614ce",
     "showTitle": true,
     "tableResultSettingsMap": {},
     "title": "Pull in the Includes & Utiltites"
    }
   },
   "outputs": [],
   "source": [
    "%run ./includes/includes"
   ]
  },
  {
   "cell_type": "code",
   "execution_count": 0,
   "metadata": {
    "application/vnd.databricks.v1+cell": {
     "cellMetadata": {
      "byteLimit": 2048000,
      "rowLimit": 10000
     },
     "inputWidgets": {},
     "nuid": "6512bf1b-50e0-4a4b-84a9-e280a6260b56",
     "showTitle": true,
     "tableResultSettingsMap": {},
     "title": "Notebook Control Widgets (maybe helpful)"
    }
   },
   "outputs": [],
   "source": [
    "\"\"\"\n",
    "Adding a widget to the notebook to control the clearing of a previous run.\n",
    "or stopping the active streams using routines defined in the utilities notebook\n",
    "\"\"\"\n",
    "dbutils.widgets.removeAll()\n",
    "\n",
    "dbutils.widgets.dropdown(\"clear_previous_run\", \"No\", [\"No\",\"Yes\"])\n",
    "if (getArgument(\"clear_previous_run\") == \"Yes\"):\n",
    "    clear_previous_run()\n",
    "    print(\"Cleared all previous data.\")\n",
    "\n",
    "dbutils.widgets.dropdown(\"stop_streams\", \"No\", [\"No\",\"Yes\"])\n",
    "if (getArgument(\"stop_streams\") == \"Yes\"):\n",
    "    stop_all_streams()\n",
    "    print(\"Stopped all active streams.\")\n",
    "\n",
    "dbutils.widgets.dropdown(\"optimize_tables\", \"No\", [\"No\",\"Yes\"])\n",
    "if (getArgument(\"optimize_tables\") == \"Yes\"):\n",
    "    # Suck up those small files that we have been appending.\n",
    "    # Optimize the tables\n",
    "    optimize_table(BRONZE_DELTA)\n",
    "    optimize_table(SILVER_DELTA)\n",
    "    optimize_table(GOLD_DELTA)\n",
    "    print(\"Optimized all of the Delta Tables\")"
   ]
  },
  {
   "cell_type": "markdown",
   "metadata": {
    "application/vnd.databricks.v1+cell": {
     "cellMetadata": {
      "byteLimit": 2048000,
      "rowLimit": 10000
     },
     "inputWidgets": {},
     "nuid": "e8ce7c13-7f8f-4e11-b50c-fdaebbcf3f99",
     "showTitle": false,
     "tableResultSettingsMap": {},
     "title": ""
    }
   },
   "source": [
    "## 1.0 Import your libraries here (2 points)\n",
    "- Are your shuffle partitions consistent with your cluster and your workload?\n",
    "- Do you have the necessary libraries to perform the required operations in the pipeline/application?"
   ]
  },
  {
   "cell_type": "code",
   "execution_count": 0,
   "metadata": {
    "application/vnd.databricks.v1+cell": {
     "cellMetadata": {
      "byteLimit": 2048000,
      "rowLimit": 10000
     },
     "inputWidgets": {},
     "nuid": "67bafbb7-d34e-4e86-b159-b2e062faa1d0",
     "showTitle": false,
     "tableResultSettingsMap": {},
     "title": ""
    }
   },
   "outputs": [],
   "source": [
    "# ==== Cell 1.0: Import Libraries & Configure Shuffle Partitions ====\n",
    "import time\n",
    "\n",
    "# Core Spark & Delta\n",
    "from pyspark.sql import SparkSession\n",
    "import pyspark.sql.functions as F\n",
    "from pyspark.sql.types import (\n",
    "    StructType, StructField, StringType, TimestampType, IntegerType, FloatType, ArrayType\n",
    ")\n",
    "from delta import DeltaTable\n",
    "\n",
    "# MLflow\n",
    "import mlflow, mlflow.spark\n",
    "\n",
    "# Hugging Face\n",
    "from transformers import pipeline\n",
    "\n",
    "# Utilities\n",
    "import emoji, pandas as pd, matplotlib.pyplot as plt, re, datetime\n",
    "\n",
    "# Tune partitions: 2× cores for better parallelism\n",
    "num_cores = spark.sparkContext.defaultParallelism\n",
    "desired_partitions = num_cores * 2\n",
    "spark.conf.set(\"spark.sql.shuffle.partitions\", desired_partitions)\n",
    "\n",
    "print(f\"✔️ defaultParallelism={num_cores}; shuffle.partitions={desired_partitions}\")"
   ]
  },
  {
   "cell_type": "markdown",
   "metadata": {
    "application/vnd.databricks.v1+cell": {
     "cellMetadata": {
      "byteLimit": 2048000,
      "rowLimit": 10000
     },
     "inputWidgets": {},
     "nuid": "2b7624b4-0aa5-46b7-9767-52f462b2c574",
     "showTitle": false,
     "tableResultSettingsMap": {},
     "title": ""
    }
   },
   "source": [
    "## 2.0 Define and execute utility functions (3 points)\n",
    "- Read the source file directory listing\n",
    "- Count the source files (how many are there?)\n",
    "- print the contents of one of the files"
   ]
  },
  {
   "cell_type": "code",
   "execution_count": 0,
   "metadata": {
    "application/vnd.databricks.v1+cell": {
     "cellMetadata": {
      "byteLimit": 2048000,
      "rowLimit": 10000
     },
     "inputWidgets": {},
     "nuid": "a59749d5-e45d-460f-9be1-33652cda2ea5",
     "showTitle": false,
     "tableResultSettingsMap": {},
     "title": ""
    }
   },
   "outputs": [],
   "source": [
    "# ==== Cell: Data‐Mode Selector + Directory Inspection with Sample Caching ====\n",
    "import time\n",
    "\n",
    "\n",
    "# 1) Preserve original path\n",
    "ORIG_TWEET_SOURCE_PATH = TWEET_SOURCE_PATH\n",
    "\n",
    "# 2) Reset widget if needed\n",
    "try:\n",
    "    dbutils.widgets.remove(\"use_sample_data\")\n",
    "except:\n",
    "    pass\n",
    "\n",
    "# 3) Create dropdown\n",
    "dbutils.widgets.dropdown(\n",
    "    name=\"use_sample_data\",\n",
    "    defaultValue=\"No\",\n",
    "    choices=[\"No\", \"Yes\"],\n",
    "    label=\"Use sample data?\"\n",
    ")\n",
    "use_sample = dbutils.widgets.get(\"use_sample_data\")\n",
    "\n",
    "# 4) Paths + config\n",
    "SAMPLE_TWEET_PATH = USER_DIR + \"sample_tweets/\"\n",
    "SAMPLE_SIZE = 10000\n",
    "current_source = ORIG_TWEET_SOURCE_PATH\n",
    "\n",
    "if use_sample == \"Yes\":\n",
    "    # check existing\n",
    "    try:\n",
    "        existing = dbutils.fs.ls(SAMPLE_TWEET_PATH)\n",
    "    except:\n",
    "        existing = []\n",
    "    if len(existing) == SAMPLE_SIZE:\n",
    "        print(f\"✅ Reusing {len(existing)}-file sample at {SAMPLE_TWEET_PATH}\")\n",
    "    else:\n",
    "        dbutils.fs.rm(SAMPLE_TWEET_PATH, recurse=True)\n",
    "        dbutils.fs.mkdirs(SAMPLE_TWEET_PATH)\n",
    "        all_files = dbutils.fs.ls(ORIG_TWEET_SOURCE_PATH)\n",
    "        n = min(SAMPLE_SIZE, len(all_files))\n",
    "        for f in all_files[:n]:\n",
    "            dbutils.fs.cp(f.path, SAMPLE_TWEET_PATH + f.name)\n",
    "        print(f\"✅ Sampled {n} files into {SAMPLE_TWEET_PATH}\")\n",
    "    current_source = SAMPLE_TWEET_PATH\n",
    "\n",
    "# 5) Inspect\n",
    "files = dbutils.fs.ls(current_source)\n",
    "print(f\"\\n📂 Found {len(files)} files in {current_source}\\n\")\n",
    "for f in files:\n",
    "    print(f\" - {f.name}\")\n",
    "if files:\n",
    "    sample_path = files[0].path\n",
    "    print(f\"\\n🔍 Sample file contents:\\n{dbutils.fs.head(sample_path,10000)}\")\n",
    "else:\n",
    "    print(\"\\n⚠️ No files found to inspect.\")\n",
    "\n",
    "# 6) Override global\n",
    "TWEET_SOURCE_PATH = current_source\n",
    "\n",
    "# 7) Summary\n",
    "mode_str = \"SAMPLE\" if use_sample==\"Yes\" else \"FULL\"\n",
    "print(f\"\\n▶️ DATA MODE: {mode_str} data (path: {TWEET_SOURCE_PATH})\")"
   ]
  },
  {
   "cell_type": "markdown",
   "metadata": {
    "application/vnd.databricks.v1+cell": {
     "cellMetadata": {
      "byteLimit": 2048000,
      "rowLimit": 10000
     },
     "inputWidgets": {},
     "nuid": "1676aed7-527f-4ea7-9d3b-52544e8c1e37",
     "showTitle": false,
     "tableResultSettingsMap": {},
     "title": ""
    }
   },
   "source": [
    "## 3.0 Transform the Raw Data to Bronze Data using a stream  (8 points)\n",
    "- define the schema for the raw data\n",
    "- setup a read stream using cloudfiles and the source data format\n",
    "- setup a write stream using delta lake to append to the bronze delta table\n",
    "- enforce schema\n",
    "- allow a new schema to be merged into the bronze delta table\n",
    "- Use the defined BRONZE_CHECKPOINT and BRONZE_DELTA paths defined in the includes\n",
    "- name your raw to bronze stream as bronze_stream\n",
    "- transform the raw data to the bronze data using the data definition at the top of the notebook"
   ]
  },
  {
   "cell_type": "code",
   "execution_count": 0,
   "metadata": {
    "application/vnd.databricks.v1+cell": {
     "cellMetadata": {
      "byteLimit": 2048000,
      "rowLimit": 10000
     },
     "inputWidgets": {},
     "nuid": "c4e37574-9885-4908-bf97-609d140a8818",
     "showTitle": false,
     "tableResultSettingsMap": {},
     "title": ""
    }
   },
   "outputs": [],
   "source": [
    "# ==== Cell 3.0: Transform Raw → Bronze (streaming) =====\n",
    "import time\n",
    "time.sleep(30)\n",
    "\n",
    "from pyspark.sql.types import StructType, StructField, StringType\n",
    "from pyspark.sql.functions import input_file_name, current_timestamp\n",
    "\n",
    "# Schema\n",
    "raw_schema = StructType([\n",
    "    StructField(\"date\",      StringType(), True),\n",
    "    StructField(\"user\",      StringType(), True),\n",
    "    StructField(\"text\",      StringType(), True),\n",
    "    StructField(\"sentiment\", StringType(), True)\n",
    "])\n",
    "\n",
    "# Ingest\n",
    "bronze_stream = (\n",
    "    spark.readStream\n",
    "         .format(\"cloudFiles\")\n",
    "         .option(\"cloudFiles.format\",\"json\")\n",
    "         .option(\"cloudFiles.schemaLocation\", BRONZE_CHECKPOINT + \"/schema\")\n",
    "         .schema(raw_schema)\n",
    "         .load(TWEET_SOURCE_PATH)\n",
    "         .select(\n",
    "             \"date\",\"user\",\"text\",\"sentiment\",\n",
    "             input_file_name().alias(\"source_file\"),\n",
    "             current_timestamp().alias(\"processing_time\")\n",
    "         )\n",
    "         .writeStream\n",
    "         .format(\"delta\")\n",
    "         .outputMode(\"append\")\n",
    "         .option(\"checkpointLocation\", BRONZE_CHECKPOINT)\n",
    "         .option(\"mergeSchema\",\"true\")\n",
    "         .queryName(\"bronze_stream\")\n",
    "         .start(BRONZE_DELTA)\n",
    ")\n",
    "print(f\"▶️ 'bronze_stream' started.\")"
   ]
  },
  {
   "cell_type": "markdown",
   "metadata": {
    "application/vnd.databricks.v1+cell": {
     "cellMetadata": {
      "byteLimit": 2048000,
      "rowLimit": 10000
     },
     "inputWidgets": {},
     "nuid": "f94a594e-1a85-458f-9fe8-959e06d2e5f0",
     "showTitle": false,
     "tableResultSettingsMap": {},
     "title": ""
    }
   },
   "source": [
    "## 4.0 Transform the Bronze Data to Silver Data using a stream (5 points)\n",
    "- setup a read stream on your bronze delta table\n",
    "- setup a write stream to append to the silver delta table\n",
    "- Use the defined SILVER_CHECKPOINT and SILVER_DELTA paths in the includes\n",
    "- name your bronze to silver stream as silver_stream\n",
    "- transform the bronze data to the silver data using the data definition at the top of the notebook"
   ]
  },
  {
   "cell_type": "code",
   "execution_count": 0,
   "metadata": {
    "application/vnd.databricks.v1+cell": {
     "cellMetadata": {
      "byteLimit": 2048000,
      "rowLimit": 10000
     },
     "inputWidgets": {},
     "nuid": "091ec59c-d968-4acf-b56f-cc9178cd0693",
     "showTitle": false,
     "tableResultSettingsMap": {},
     "title": ""
    }
   },
   "outputs": [],
   "source": [
    "# ==== Cell 4.0: Transform Bronze → Silver (streaming) =====\n",
    "import time\n",
    "time.sleep(30)\n",
    "\n",
    "from pyspark.sql.functions import to_timestamp, explode, expr, regexp_replace, split\n",
    "\n",
    "bronze_df = (\n",
    "    spark.readStream\n",
    "         .format(\"delta\")\n",
    "         .load(BRONZE_DELTA)\n",
    ")\n",
    "\n",
    "silver_df = bronze_df.select(\n",
    "    to_timestamp(\"date\").alias(\"timestamp\"),\n",
    "    explode(\n",
    "      expr(\n",
    "        \"filter(transform(split(text,' '), x -> regexp_replace(x,'[^@A-Za-z0-9_]','')),\"+\n",
    "        \" x -> x rlike '^@')\"\n",
    "      )\n",
    "    ).alias(\"mention\"),\n",
    "    regexp_replace(\"text\",\"@\\\\w+\",\"\").alias(\"cleaned_text\"),\n",
    "    \"sentiment\"\n",
    ")\n",
    "\n",
    "silver_stream = (\n",
    "    silver_df.writeStream\n",
    "            .format(\"delta\")\n",
    "            .outputMode(\"append\")\n",
    "            .option(\"checkpointLocation\", SILVER_CHECKPOINT)\n",
    "            .option(\"mergeSchema\",\"true\")\n",
    "            .queryName(\"silver_stream\")\n",
    "            .start(SILVER_DELTA)\n",
    ")\n",
    "print(f\"▶️ 'silver_stream' started.\")"
   ]
  },
  {
   "cell_type": "markdown",
   "metadata": {
    "application/vnd.databricks.v1+cell": {
     "cellMetadata": {
      "byteLimit": 2048000,
      "rowLimit": 10000
     },
     "inputWidgets": {},
     "nuid": "9ee38aba-e340-4766-8339-71ef2ecfde3a",
     "showTitle": false,
     "tableResultSettingsMap": {},
     "title": ""
    }
   },
   "source": [
    "## 5.0 Transform the Silver Data to Gold Data using a stream (7 points)\n",
    "- setup a read stream on your silver delta table\n",
    "- setup a write stream to append to the gold delta table\n",
    "- Use the defined GOLD_CHECKPOINT and GOLD_DELTA paths defines in the includes\n",
    "- name your silver to gold stream as gold_stream\n",
    "- transform the silver data to the gold data using the data definition at the top of the notebook\n",
    "- Load the pretrained transformer sentiment classifier from the MODEL_NAME at the production level from the MLflow registry\n",
    "- Use a spark UDF to parallelize the inference across your silver data"
   ]
  },
  {
   "cell_type": "code",
   "execution_count": 0,
   "metadata": {
    "application/vnd.databricks.v1+cell": {
     "cellMetadata": {
      "byteLimit": 2048000,
      "rowLimit": 10000
     },
     "inputWidgets": {},
     "nuid": "31e8949d-c016-44a7-9f03-65f471dfd22d",
     "showTitle": false,
     "tableResultSettingsMap": {},
     "title": ""
    }
   },
   "outputs": [],
   "source": [
    "# ===== Cell 5.0: Transform Silver → Gold (streaming) with correct label mapping =====\n",
    "import time\n",
    "time.sleep(30)\n",
    "\n",
    "from pyspark.sql.functions import col, when, lit\n",
    "from pyspark.sql.types import IntegerType\n",
    "import mlflow\n",
    "\n",
    "# 1) Stop any existing Gold stream and clear its checkpoint so we start fresh\n",
    "stop_named_stream(spark, \"gold_stream\")\n",
    "dbutils.fs.rm(GOLD_CHECKPOINT, recurse=True)\n",
    "\n",
    "# 2) Read Silver as a stream from the very first version\n",
    "silver_stream_df = (\n",
    "    spark.readStream\n",
    "         .format(\"delta\")\n",
    "         .option(\"startingVersion\", 0)\n",
    "         .load(SILVER_DELTA)\n",
    ")\n",
    "\n",
    "# 3) Load the Hugging Face model (registered under MODEL_NAME) as Spark UDFs\n",
    "model_uri = f\"models:/{MODEL_NAME}/Production\"\n",
    "predict_sentiment = mlflow.pyfunc.spark_udf(spark, model_uri, result_type=\"string\")\n",
    "predict_score     = mlflow.pyfunc.spark_udf(spark, model_uri, result_type=\"double\")\n",
    "\n",
    "# 4) Build the Gold DataFrame, mapping POS/NEG/NEU correctly\n",
    "gold_df = (\n",
    "    silver_stream_df\n",
    "      .select(\"timestamp\", \"mention\", \"cleaned_text\", \"sentiment\")\n",
    "      .withColumn(\"predicted_sentiment\", predict_sentiment(col(\"cleaned_text\")))\n",
    "      .withColumn(\"predicted_score\", (predict_score(col(\"cleaned_text\")) * 100).cast(\"float\"))\n",
    "      .withColumn(\n",
    "          \"sentiment_id\",\n",
    "          when(col(\"sentiment\") == \"positive\", lit(1))\n",
    "         .when(col(\"sentiment\") == \"negative\", lit(0))\n",
    "         .otherwise(lit(None))\n",
    "         .cast(IntegerType())\n",
    "      )\n",
    "      .withColumn(\n",
    "          \"predicted_sentiment_id\",\n",
    "          when(col(\"predicted_sentiment\") == \"POS\", lit(1))\n",
    "         .when(col(\"predicted_sentiment\") == \"NEG\", lit(0))\n",
    "         .when(col(\"predicted_sentiment\") == \"NEU\", lit(2))\n",
    "         .otherwise(lit(None))\n",
    "         .cast(IntegerType())\n",
    "      )\n",
    ")\n",
    "\n",
    "# 5) Write the Gold stream to Delta\n",
    "gold_stream = (\n",
    "    gold_df.writeStream\n",
    "           .format(\"delta\")\n",
    "           .outputMode(\"append\")\n",
    "           .option(\"checkpointLocation\", GOLD_CHECKPOINT)\n",
    "           .option(\"mergeSchema\", \"true\")\n",
    "           .queryName(\"gold_stream\")\n",
    "           .start(GOLD_DELTA)\n",
    ")\n",
    "\n",
    "print(f\"▶️ 'gold_stream' started, writing to {GOLD_DELTA}\")"
   ]
  },
  {
   "cell_type": "markdown",
   "metadata": {
    "application/vnd.databricks.v1+cell": {
     "cellMetadata": {
      "byteLimit": 2048000,
      "rowLimit": 10000
     },
     "inputWidgets": {},
     "nuid": "05cd829f-46d6-4d94-8555-887d29a33daf",
     "showTitle": false,
     "tableResultSettingsMap": {},
     "title": ""
    }
   },
   "source": [
    "## 6.0 Monitor your Streams (5 points)\n",
    "- Setup a loop that runs at least every 10 seconds\n",
    "- Print a timestamp of the monitoring query along with the list of streams, rows processed on each, and the processing time on each\n",
    "- Run the loop until all of the data is processed (0 rows read on each active stream)\n",
    "- Plot a line graph that shows the data processed by each stream over time\n",
    "- Plot a line graph that shows the average processing time on each stream over time"
   ]
  },
  {
   "cell_type": "code",
   "execution_count": 0,
   "metadata": {
    "application/vnd.databricks.v1+cell": {
     "cellMetadata": {
      "byteLimit": 2048000,
      "rowLimit": 10000
     },
     "inputWidgets": {},
     "nuid": "acbddf2c-0c20-46d9-aa42-c5aed3e2f839",
     "showTitle": false,
     "tableResultSettingsMap": {},
     "title": ""
    }
   },
   "outputs": [],
   "source": [
    "# ==== Cell 6.0: Robust Stream Monitoring (max 24-hr cap) =====\n",
    "import time\n",
    "time.sleep(30)\n",
    "\n",
    "import pandas as pd\n",
    "import matplotlib.pyplot as plt\n",
    "\n",
    "records = []\n",
    "monitor_start = time.time()\n",
    "idle_start    = None\n",
    "max_dur       = 24*3600\n",
    "idle_thresh   = 60\n",
    "\n",
    "while True:\n",
    "    now = pd.Timestamp.now()\n",
    "    elapsed = time.time()-monitor_start\n",
    "    active = spark.streams.active\n",
    "    if not active:\n",
    "        print(\"✅ No streams. Exiting.\")\n",
    "        break\n",
    "    print(f\"\\n=== Monitoring at {now} (elapsed {elapsed/3600:.2f}h) ===\")\n",
    "    made_prog = False\n",
    "    for q in active:\n",
    "        status = q.isActive\n",
    "        prog   = q.lastProgress\n",
    "        in_rows = prog.get(\"numInputRows\",0) if prog else 0\n",
    "        pt_ms   = prog.get(\"durationMs\",{}).get(\"addBatch\") if prog else None\n",
    "        print(f\"• {q.name}: active={status}, rows={in_rows}, time={pt_ms}ms\")\n",
    "        records.append({\n",
    "            \"query\":q.name, \"monitor_time\":now,\n",
    "            \"input_rows\":in_rows, \"processing_time\":pt_ms or 0\n",
    "        })\n",
    "        if in_rows>0: made_prog=True\n",
    "\n",
    "    if made_prog:\n",
    "        idle_start=None\n",
    "    else:\n",
    "        if idle_start is None:\n",
    "            idle_start=time.time()\n",
    "        elif time.time()-idle_start>idle_thresh:\n",
    "            print(f\"⚠️ No progress for {idle_thresh}s. Exiting.\")\n",
    "            break\n",
    "\n",
    "    if elapsed>=max_dur:\n",
    "        print(\"⚠️ Hit 24-hr cap. Exiting.\")\n",
    "        break\n",
    "\n",
    "    time.sleep(10)\n",
    "\n",
    "stats_df = pd.DataFrame(records)\n",
    "\n",
    "# Plot 1\n",
    "plt.figure()\n",
    "for name,grp in stats_df.groupby(\"query\"):\n",
    "    plt.plot(grp[\"monitor_time\"],grp[\"input_rows\"],label=name)\n",
    "plt.xlabel(\"Time\"); plt.ylabel(\"Rows\"); plt.title(\"Rows Over Time\")\n",
    "plt.legend(); plt.xticks(rotation=45); plt.tight_layout(); plt.show()\n",
    "\n",
    "# Plot 2\n",
    "avgp = stats_df.groupby([\"monitor_time\",\"query\"])[\"processing_time\"].mean().reset_index()\n",
    "plt.figure()\n",
    "for name,grp in avgp.groupby(\"query\"):\n",
    "    plt.plot(grp[\"monitor_time\"],grp[\"processing_time\"],label=name)\n",
    "plt.xlabel(\"Time\"); plt.ylabel(\"Proc Time (ms)\"); plt.title(\"Avg Proc Time\")\n",
    "plt.legend(); plt.xticks(rotation=45); plt.tight_layout(); plt.show()"
   ]
  },
  {
   "cell_type": "markdown",
   "metadata": {
    "application/vnd.databricks.v1+cell": {
     "cellMetadata": {
      "byteLimit": 2048000,
      "rowLimit": 10000
     },
     "inputWidgets": {},
     "nuid": "9bc3e824-d218-43e5-a43b-4c6dbe31950d",
     "showTitle": false,
     "tableResultSettingsMap": {},
     "title": ""
    }
   },
   "source": [
    "## 7.0 Bronze Data Exploratory Data Analysis (5 points)\n",
    "- How many tweets are captured in your Bronze Table?\n",
    "- Are there any columns that contain Nan or Null values?  If so how many and what will you do in your silver transforms to address this?\n",
    "- Count the number of tweets by each unique user handle and sort the data by descending count.\n",
    "- How many tweets have at least one mention (@) how many tweet have no mentions (@)\n",
    "- Plot a bar chart that shows the top 20 tweeters (users)\n"
   ]
  },
  {
   "cell_type": "code",
   "execution_count": 0,
   "metadata": {
    "application/vnd.databricks.v1+cell": {
     "cellMetadata": {
      "byteLimit": 2048000,
      "rowLimit": 10000
     },
     "inputWidgets": {},
     "nuid": "33e05866-0264-43af-8a95-52e841124d60",
     "showTitle": false,
     "tableResultSettingsMap": {},
     "title": ""
    }
   },
   "outputs": [],
   "source": [
    "# ==== Cell 7.0: Bronze EDA =====\n",
    "import time\n",
    "time.sleep(30)\n",
    "\n",
    "from pyspark.sql.functions import col, when, count\n",
    "import matplotlib.pyplot as plt\n",
    "\n",
    "bronze_df = spark.read.format(\"delta\").load(BRONZE_DELTA)\n",
    "total = bronze_df.count()\n",
    "print(f\"Total tweets: {total}\")\n",
    "\n",
    "# Null counts\n",
    "nulls = bronze_df.select([\n",
    "    count(when(col(c).isNull(),c)).alias(c) for c in bronze_df.columns\n",
    "]).collect()[0].asDict()\n",
    "print(\"Nulls per column:\")\n",
    "for k,v in nulls.items(): print(f\" - {k}: {v}\")\n",
    "\n",
    "# Top users\n",
    "user_counts = bronze_df.groupBy(\"user\").count().orderBy(\"count\",ascending=False)\n",
    "print(\"Top 20 users:\")\n",
    "user_counts.show(20,False)\n",
    "\n",
    "# Mentions\n",
    "with_m = bronze_df.filter(col(\"text\").contains(\"@\")).count()\n",
    "without_m = total-with_m\n",
    "print(f\"With mentions: {with_m}; without: {without_m}\")\n",
    "\n",
    "# Plot top20\n",
    "top20 = user_counts.limit(20).toPandas()\n",
    "plt.figure(); plt.bar(top20[\"user\"],top20[\"count\"])\n",
    "plt.xticks(rotation=90); plt.title(\"Top 20 Tweeters\"); plt.tight_layout(); plt.show()"
   ]
  },
  {
   "cell_type": "markdown",
   "metadata": {
    "application/vnd.databricks.v1+cell": {
     "cellMetadata": {
      "byteLimit": 2048000,
      "rowLimit": 10000
     },
     "inputWidgets": {},
     "nuid": "0494d8b4-5a55-47fc-af12-47325f34a303",
     "showTitle": false,
     "tableResultSettingsMap": {},
     "title": ""
    }
   },
   "source": [
    "## 8.0 Capture the accuracy metrics from the gold table in MLflow  (4 points)\n",
    "Store the following in an MLflow experiment run:\n",
    "- Store the precision, recall, and F1-score as MLflow metrics\n",
    "- Store an image of the confusion matrix as an MLflow artifact\n",
    "- Store the model name and the MLflow version that was used as an MLflow parameters\n",
    "- Store the version of the Delta Table (input-silver) as an MLflow parameter"
   ]
  },
  {
   "cell_type": "code",
   "execution_count": 0,
   "metadata": {
    "application/vnd.databricks.v1+cell": {
     "cellMetadata": {
      "byteLimit": 2048000,
      "rowLimit": 10000
     },
     "inputWidgets": {},
     "nuid": "3bb174ad-67e4-4b0a-be36-ff20a760ee8b",
     "showTitle": false,
     "tableResultSettingsMap": {},
     "title": ""
    }
   },
   "outputs": [],
   "source": [
    "# ===== Cell 8.0: MLflow Metrics & Confusion Matrix (multiclass) =====\n",
    "import time\n",
    "time.sleep(30)\n",
    "\n",
    "import mlflow\n",
    "from sklearn.metrics import precision_score, recall_score, f1_score, confusion_matrix\n",
    "import matplotlib.pyplot as plt\n",
    "from delta.tables import DeltaTable\n",
    "\n",
    "# 1) Load Gold and drop nulls\n",
    "gdf = (spark.read.format(\"delta\")\n",
    "        .load(GOLD_DELTA)\n",
    "        .select(\"sentiment_id\", \"predicted_sentiment_id\")\n",
    "        .dropna()\n",
    ")\n",
    "pdf = gdf.toPandas()\n",
    "y_true = pdf[\"sentiment_id\"].tolist()\n",
    "y_pred = pdf[\"predicted_sentiment_id\"].tolist()\n",
    "\n",
    "# 2) Determine unique classes and compute metrics with a multiclass average\n",
    "classes = sorted(set(y_true) | set(y_pred))\n",
    "# Use weighted average to account for class imbalance\n",
    "precision = precision_score(y_true, y_pred, labels=classes, average=\"weighted\", zero_division=0)\n",
    "recall    = recall_score(y_true, y_pred, labels=classes, average=\"weighted\", zero_division=0)\n",
    "f1        = f1_score(y_true, y_pred, labels=classes, average=\"weighted\", zero_division=0)\n",
    "\n",
    "# 3) Build and save the confusion matrix for all classes\n",
    "cm = confusion_matrix(y_true, y_pred, labels=classes)\n",
    "\n",
    "# Map IDs back to labels\n",
    "label_map = {0: \"neg\", 1: \"pos\", 2: \"neu\"}\n",
    "tick_labels = [label_map.get(i, str(i)) for i in classes]\n",
    "\n",
    "fig, ax = plt.subplots()\n",
    "im = ax.imshow(cm, interpolation=\"nearest\")\n",
    "ax.set_xticks(range(len(classes)))\n",
    "ax.set_yticks(range(len(classes)))\n",
    "ax.set_xticklabels(tick_labels)\n",
    "ax.set_yticklabels(tick_labels)\n",
    "for i in range(len(classes)):\n",
    "    for j in range(len(classes)):\n",
    "        ax.text(j, i, cm[i, j], ha=\"center\", va=\"center\")\n",
    "plt.xlabel(\"Predicted\")\n",
    "plt.ylabel(\"Actual\")\n",
    "plt.title(\"Confusion Matrix\")\n",
    "plt.tight_layout()\n",
    "\n",
    "cm_path = \"/tmp/confusion_matrix.png\"\n",
    "fig.savefig(cm_path)\n",
    "plt.close(fig)\n",
    "\n",
    "# 4) Retrieve Silver Delta version\n",
    "silver_version = DeltaTable.forPath(spark, SILVER_DELTA) \\\n",
    "                    .history(1) \\\n",
    "                    .select(\"version\") \\\n",
    "                    .collect()[0][0]\n",
    "\n",
    "# 5) Log to MLflow\n",
    "with mlflow.start_run() as run:\n",
    "    mlflow.log_metric(\"precision\", precision)\n",
    "    mlflow.log_metric(\"recall\", recall)\n",
    "    mlflow.log_metric(\"f1_score\", f1)\n",
    "    mlflow.log_artifact(cm_path, artifact_path=\"confusion_matrix\")\n",
    "    mlflow.log_param(\"model_name\", MODEL_NAME)\n",
    "    mlflow.log_param(\"mlflow_version\", mlflow.__version__)\n",
    "    mlflow.log_param(\"silver_delta_version\", silver_version)\n",
    "    print(f\"✅ MLflow run {run.info.run_id}: precision={precision:.3f}, recall={recall:.3f}, f1={f1:.3f}\")"
   ]
  },
  {
   "cell_type": "markdown",
   "metadata": {
    "application/vnd.databricks.v1+cell": {
     "cellMetadata": {
      "byteLimit": 2048000,
      "rowLimit": 10000
     },
     "inputWidgets": {},
     "nuid": "81e0e2de-b872-4698-81cc-1669646c2183",
     "showTitle": false,
     "tableResultSettingsMap": {},
     "title": ""
    }
   },
   "source": [
    "## 9.0 Application Data Processing and Visualization (6 points)\n",
    "- How many mentions are there in the gold data total?\n",
    "- Count the number of neutral, positive and negative tweets for each mention in new columns\n",
    "- Capture the total for each mention in a new column\n",
    "- Sort the mention count totals in descending order\n",
    "- Plot a bar chart of the top 20 mentions with positive sentiment (the people who are in favor)\n",
    "- Plot a bar chart of the top 20 mentions with negative sentiment (the people who are the vilians)\n",
    "\n",
    "*note: A mention is a specific twitter user that has been \"mentioned\" in a tweet with an @user reference."
   ]
  },
  {
   "cell_type": "code",
   "execution_count": 0,
   "metadata": {
    "application/vnd.databricks.v1+cell": {
     "cellMetadata": {
      "byteLimit": 2048000,
      "rowLimit": 10000
     },
     "inputWidgets": {},
     "nuid": "8250667b-eaa5-48a1-90c7-bfe11e666e32",
     "showTitle": false,
     "tableResultSettingsMap": {},
     "title": ""
    }
   },
   "outputs": [],
   "source": [
    "# ==== Cell 9.0: Application Aggregation & Visualization =====\n",
    "import time\n",
    "time.sleep(30)\n",
    "\n",
    "from pyspark.sql.functions import col, sum as spark_sum, when\n",
    "import matplotlib.pyplot as plt\n",
    "\n",
    "# 1) Load Gold mentions\n",
    "gd = spark.read.format(\"delta\").load(GOLD_DELTA).select(\"mention\", \"predicted_sentiment\")\n",
    "total_mentions = gd.count()\n",
    "print(f\"Total mentions in Gold: {total_mentions}\")\n",
    "\n",
    "# 2) Aggregate counts per mention (adjusting for POS/NEG/NEU labels)\n",
    "agg = (\n",
    "    gd.groupBy(\"mention\")\n",
    "      .agg(\n",
    "          spark_sum(when(col(\"predicted_sentiment\") == \"NEG\", 1).otherwise(0)).alias(\"negative\"),\n",
    "          spark_sum(when(col(\"predicted_sentiment\") == \"NEU\", 1).otherwise(0)).alias(\"neutral\"),\n",
    "          spark_sum(when(col(\"predicted_sentiment\") == \"POS\", 1).otherwise(0)).alias(\"positive\")\n",
    "      )\n",
    "      .withColumn(\"total\", col(\"negative\") + col(\"neutral\") + col(\"positive\"))\n",
    "      .orderBy(col(\"total\").desc())\n",
    ")\n",
    "\n",
    "# 3) Show the top 20 mentions by total\n",
    "print(\"Top 20 mentions by total tweet count:\")\n",
    "agg.select(\"mention\", \"negative\", \"neutral\", \"positive\", \"total\") \\\n",
    "   .show(20, truncate=False)\n",
    "\n",
    "# 4) Bar chart: Top 20 mentions with positive sentiment\n",
    "top_pos = agg.orderBy(col(\"positive\").desc()).limit(20).toPandas()\n",
    "plt.figure()\n",
    "plt.bar(top_pos[\"mention\"], top_pos[\"positive\"])\n",
    "plt.xlabel(\"Mention\")\n",
    "plt.ylabel(\"Count of Positive Tweets\")\n",
    "plt.title(\"Top 20 Mentions with Positive Sentiment\")\n",
    "plt.xticks(rotation=90)\n",
    "plt.tight_layout()\n",
    "plt.show()\n",
    "\n",
    "# 5) Bar chart: Top 20 mentions with negative sentiment\n",
    "top_neg = agg.orderBy(col(\"negative\").desc()).limit(20).toPandas()\n",
    "plt.figure()\n",
    "plt.bar(top_neg[\"mention\"], top_neg[\"negative\"])\n",
    "plt.xlabel(\"Mention\")\n",
    "plt.ylabel(\"Count of Negative Tweets\")\n",
    "plt.title(\"Top 20 Mentions with Negative Sentiment\")\n",
    "plt.xticks(rotation=90)\n",
    "plt.tight_layout()\n",
    "plt.show()"
   ]
  },
  {
   "cell_type": "markdown",
   "metadata": {
    "application/vnd.databricks.v1+cell": {
     "cellMetadata": {
      "byteLimit": 2048000,
      "rowLimit": 10000
     },
     "inputWidgets": {},
     "nuid": "5d5add3f-0c13-4d81-86d8-12cf3cfdd2c8",
     "showTitle": false,
     "tableResultSettingsMap": {},
     "title": ""
    }
   },
   "source": [
    "## 10.0 Clean up and completion of your pipeline (3 points)\n",
    "- using the utilities what streams are running? If any.\n",
    "- Stop all active streams\n",
    "- print out the elapsed time of your notebook. Note: In the includes there is a variable START_TIME that captures the starting time of the notebook."
   ]
  },
  {
   "cell_type": "code",
   "execution_count": 0,
   "metadata": {
    "application/vnd.databricks.v1+cell": {
     "cellMetadata": {
      "byteLimit": 2048000,
      "rowLimit": 10000
     },
     "inputWidgets": {},
     "nuid": "0304e685-c26e-447d-b230-c37266f30003",
     "showTitle": false,
     "tableResultSettingsMap": {},
     "title": ""
    }
   },
   "outputs": [],
   "source": [
    "# ==== Cell 10.0: Clean Up & Elapsed Time =====\n",
    "import time\n",
    "time.sleep(30)\n",
    "\n",
    "# Active streams\n",
    "active = spark.streams.active\n",
    "print(\"▶️ Active streams:\")\n",
    "for q in active:\n",
    "    print(f\" - {q.name}\") if active else print(\" None\")\n",
    "\n",
    "# Stop them\n",
    "stopped = stop_all_streams()\n",
    "print(f\"✅ stop_all_streams() → {stopped}\")\n",
    "\n",
    "# Elapsed\n",
    "elapsed = time.time() - START_TIME\n",
    "m,s = divmod(elapsed,60)\n",
    "print(f\"⏱ Total elapsed: {int(m)}m {s:.2f}s\")"
   ]
  },
  {
   "cell_type": "markdown",
   "metadata": {
    "application/vnd.databricks.v1+cell": {
     "cellMetadata": {
      "byteLimit": 2048000,
      "rowLimit": 10000
     },
     "inputWidgets": {},
     "nuid": "b88fc0e5-f50c-4ed1-9480-16a4c8a44b30",
     "showTitle": false,
     "tableResultSettingsMap": {},
     "title": ""
    }
   },
   "source": [
    "## 11.0 How Optimized is your Spark Application (Grad Students Only) (5 points)\n",
    "Graduate students (registered for the DSCC-402 section of the course) are required to do this section.  This is a written analysis using the Spark UI (link to screen shots) that support your analysis of your pipelines execution and what is driving its performance.\n",
    "Recall that Spark Optimization has 5 significant dimensions of considertation:\n",
    "- Spill: write to executor disk due to lack of memory\n",
    "- Skew: imbalance in partition size\n",
    "- Shuffle: network io moving data between executors (wide transforms)\n",
    "- Storage: inefficiency due to disk storage format (small files, location)\n",
    "- Serialization: distribution of code segments across the cluster\n",
    "\n",
    "Comment on each of the dimentions of performance and how your impelementation is or is not being affected.  Use specific information in the Spark UI to support your description.  \n",
    "\n",
    "Note: you can take sreenshots of the Spark UI from your project runs in databricks and then link to those pictures by storing them as a publicly accessible file on your cloud drive (google, one drive, etc.)\n",
    "\n",
    "References:\n",
    "- [Spark UI Reference Reference](https://spark.apache.org/docs/latest/web-ui.html#web-ui)\n",
    "- [Spark UI Simulator](https://www.databricks.training/spark-ui-simulator/index.html)"
   ]
  },
  {
   "cell_type": "markdown",
   "metadata": {
    "application/vnd.databricks.v1+cell": {
     "cellMetadata": {
      "byteLimit": 2048000,
      "rowLimit": 10000
     },
     "inputWidgets": {},
     "nuid": "a0a5707d-a5ca-4e87-9e74-3b13d00337b0",
     "showTitle": false,
     "tableResultSettingsMap": {},
     "title": ""
    }
   },
   "source": [
    "### ENTER YOUR MARKDOWN HERE"
   ]
  },
  {
   "cell_type": "markdown",
   "metadata": {
    "application/vnd.databricks.v1+cell": {
     "cellMetadata": {
      "byteLimit": 2048000,
      "rowLimit": 10000
     },
     "inputWidgets": {},
     "nuid": "e47d6382-c361-4f65-9cb0-055e7c2492de",
     "showTitle": false,
     "tableResultSettingsMap": {},
     "title": ""
    }
   },
   "source": []
  }
 ],
 "metadata": {
  "application/vnd.databricks.v1+notebook": {
   "computePreferences": null,
   "dashboards": [],
   "environmentMetadata": null,
   "inputWidgetPreferences": null,
   "language": "python",
   "notebookMetadata": {
    "mostRecentlyExecutedCommandWithImplicitDF": {
     "commandId": -1,
     "dataframes": [
      "_sqldf"
     ]
    },
    "pythonIndentUnit": 4,
    "widgetLayout": [
     {
      "breakBefore": false,
      "name": "clear_previous_run",
      "width": 203
     },
     {
      "breakBefore": false,
      "name": "stop_streams",
      "width": 203
     }
    ]
   },
   "notebookName": "Starter Streaming Tweet Sentiment - Spring 2025 Final Project",
   "widgets": {
    "clear_previous_run": {
     "currentValue": "Yes",
     "nuid": "11b43403-c70f-41ef-ab0e-41172583baaa",
     "typedWidgetInfo": {
      "autoCreated": false,
      "defaultValue": "No",
      "label": null,
      "name": "clear_previous_run",
      "options": {
       "widgetDisplayType": "Dropdown",
       "choices": [
        "No",
        "Yes"
       ],
       "fixedDomain": true,
       "multiselect": false
      },
      "parameterDataType": "String"
     },
     "widgetInfo": {
      "widgetType": "dropdown",
      "defaultValue": "No",
      "label": null,
      "name": "clear_previous_run",
      "options": {
       "widgetType": "dropdown",
       "autoCreated": null,
       "choices": [
        "No",
        "Yes"
       ]
      }
     }
    },
    "optimize_tables": {
     "currentValue": "No",
     "nuid": "0d4e2d32-9943-4bf8-a123-c24fe5f4801b",
     "typedWidgetInfo": {
      "autoCreated": false,
      "defaultValue": "No",
      "label": null,
      "name": "optimize_tables",
      "options": {
       "widgetDisplayType": "Dropdown",
       "choices": [
        "No",
        "Yes"
       ],
       "fixedDomain": true,
       "multiselect": false
      },
      "parameterDataType": "String"
     },
     "widgetInfo": {
      "widgetType": "dropdown",
      "defaultValue": "No",
      "label": null,
      "name": "optimize_tables",
      "options": {
       "widgetType": "dropdown",
       "autoCreated": null,
       "choices": [
        "No",
        "Yes"
       ]
      }
     }
    },
    "stop_streams": {
     "currentValue": "No",
     "nuid": "c4ee8854-da9a-4280-829b-608f8bcad2a4",
     "typedWidgetInfo": {
      "autoCreated": false,
      "defaultValue": "No",
      "label": null,
      "name": "stop_streams",
      "options": {
       "widgetDisplayType": "Dropdown",
       "choices": [
        "No",
        "Yes"
       ],
       "fixedDomain": true,
       "multiselect": false
      },
      "parameterDataType": "String"
     },
     "widgetInfo": {
      "widgetType": "dropdown",
      "defaultValue": "No",
      "label": null,
      "name": "stop_streams",
      "options": {
       "widgetType": "dropdown",
       "autoCreated": null,
       "choices": [
        "No",
        "Yes"
       ]
      }
     }
    },
    "use_sample_data": {
     "currentValue": "No",
     "nuid": "def42661-8708-4680-b732-27fef65e5726",
     "typedWidgetInfo": {
      "autoCreated": false,
      "defaultValue": "No",
      "label": "Use sample data?",
      "name": "use_sample_data",
      "options": {
       "widgetDisplayType": "Dropdown",
       "choices": [
        "No",
        "Yes"
       ],
       "fixedDomain": true,
       "multiselect": false
      },
      "parameterDataType": "String"
     },
     "widgetInfo": {
      "widgetType": "dropdown",
      "defaultValue": "No",
      "label": "Use sample data?",
      "name": "use_sample_data",
      "options": {
       "widgetType": "dropdown",
       "autoCreated": false,
       "choices": [
        "No",
        "Yes"
       ]
      }
     }
    }
   }
  },
  "language_info": {
   "name": "python"
  }
 },
 "nbformat": 4,
 "nbformat_minor": 0
}
